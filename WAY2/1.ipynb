{
 "cells": [
  {
   "cell_type": "markdown",
   "id": "ad454207",
   "metadata": {},
   "source": [
    "# Random Numbers in NumPy\n",
    "\n"
   ]
  },
  {
   "cell_type": "code",
   "execution_count": 2,
   "id": "235cfe1e",
   "metadata": {},
   "outputs": [],
   "source": [
    "import numpy as np\n",
    "from numpy import random"
   ]
  },
  {
   "cell_type": "markdown",
   "id": "06d047fc",
   "metadata": {},
   "source": [
    "#### What is random number ?\n",
    "+ Random number does NOT mean a difference number every time. Random means somthing that can not predict logically"
   ]
  },
  {
   "cell_type": "markdown",
   "id": "3761d699",
   "metadata": {},
   "source": [
    "#### Generate Random Number\n"
   ]
  },
  {
   "cell_type": "code",
   "execution_count": 3,
   "id": "36aff277",
   "metadata": {},
   "outputs": [
    {
     "name": "stdout",
     "output_type": "stream",
     "text": [
      "98\n"
     ]
    }
   ],
   "source": [
    "# generated a random interger from 1 to 100\n",
    "x = random.randint(100)\n",
    "print(x)"
   ]
  },
  {
   "cell_type": "code",
   "execution_count": 4,
   "id": "a358c5ca",
   "metadata": {},
   "outputs": [
    {
     "name": "stdout",
     "output_type": "stream",
     "text": [
      "0.933398773310677\n"
     ]
    }
   ],
   "source": [
    "# generated a random float from 0 to 1\n",
    "x = random.rand()\n",
    "print(x)"
   ]
  },
  {
   "cell_type": "code",
   "execution_count": 5,
   "id": "e97d18ff",
   "metadata": {},
   "outputs": [
    {
     "name": "stdout",
     "output_type": "stream",
     "text": [
      "[593 924  90 670 757 353 933 422  70 814]\n"
     ]
    }
   ],
   "source": [
    "# generated 1D array containing 10 random integers from 1 to 1000\n",
    "arr = random.randint(1000, size=(10))\n",
    "print(arr)"
   ]
  },
  {
   "cell_type": "code",
   "execution_count": 6,
   "id": "6f7ef955",
   "metadata": {},
   "outputs": [
    {
     "name": "stdout",
     "output_type": "stream",
     "text": [
      "[[7 8 4 9 8]\n",
      " [7 8 6 3 7]\n",
      " [6 1 1 8 2]]\n"
     ]
    }
   ],
   "source": [
    "# generated 2D array with the shape is (3, 5) containing intergers from 1 to 10\n",
    "arr = random.randint(10, size=(3, 5))\n",
    "print(arr)"
   ]
  },
  {
   "cell_type": "code",
   "execution_count": 7,
   "id": "1243be22",
   "metadata": {},
   "outputs": [
    {
     "name": "stdout",
     "output_type": "stream",
     "text": [
      "[0.52465468 0.4605819  0.92416887 0.39738963 0.95902186 0.71945062\n",
      " 0.40700483 0.16599963 0.69385479 0.31948894]\n"
     ]
    }
   ],
   "source": [
    "arr = random.rand(10)\n",
    "print(arr)"
   ]
  },
  {
   "cell_type": "code",
   "execution_count": 8,
   "id": "62b0b2a2",
   "metadata": {},
   "outputs": [
    {
     "name": "stdout",
     "output_type": "stream",
     "text": [
      "[[0.8680192  0.04080814]\n",
      " [0.32458217 0.79339993]\n",
      " [0.58216317 0.56336366]]\n"
     ]
    }
   ],
   "source": [
    "arr = random.rand(3, 2)\n",
    "print(arr)"
   ]
  },
  {
   "cell_type": "code",
   "execution_count": 9,
   "id": "8d1e20c5",
   "metadata": {},
   "outputs": [
    {
     "name": "stdout",
     "output_type": "stream",
     "text": [
      "4\n"
     ]
    }
   ],
   "source": [
    "x = random.choice([1, 2, 3, 4, 5, 6])\n",
    "print(x)"
   ]
  },
  {
   "cell_type": "code",
   "execution_count": 10,
   "id": "85c33673",
   "metadata": {},
   "outputs": [
    {
     "name": "stdout",
     "output_type": "stream",
     "text": [
      "[[3 6 4 6 3]\n",
      " [5 3 4 7 3]]\n"
     ]
    }
   ],
   "source": [
    "x = random.choice([3, 4, 5, 6, 7], size=(2, 5))\n",
    "print(x)"
   ]
  },
  {
   "cell_type": "code",
   "execution_count": null,
   "id": "f754e616",
   "metadata": {},
   "outputs": [],
   "source": []
  }
 ],
 "metadata": {
  "kernelspec": {
   "display_name": "Python 3",
   "language": "python",
   "name": "python3"
  },
  "language_info": {
   "codemirror_mode": {
    "name": "ipython",
    "version": 3
   },
   "file_extension": ".py",
   "mimetype": "text/x-python",
   "name": "python",
   "nbconvert_exporter": "python",
   "pygments_lexer": "ipython3",
   "version": "3.13.2"
  }
 },
 "nbformat": 4,
 "nbformat_minor": 5
}
