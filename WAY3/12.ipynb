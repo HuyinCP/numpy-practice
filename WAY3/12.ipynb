{
 "cells": [
  {
   "cell_type": "markdown",
   "id": "27cd7d32",
   "metadata": {},
   "source": [
    "# NumPy Set Operations\n"
   ]
  },
  {
   "cell_type": "code",
   "execution_count": 3,
   "id": "94c23fe3",
   "metadata": {},
   "outputs": [],
   "source": [
    "import numpy as np\n",
    "import time"
   ]
  },
  {
   "cell_type": "code",
   "execution_count": 4,
   "id": "a91f3404",
   "metadata": {},
   "outputs": [
    {
     "data": {
      "text/plain": [
       "array([1, 2, 3, 4, 5])"
      ]
     },
     "execution_count": 4,
     "metadata": {},
     "output_type": "execute_result"
    }
   ],
   "source": [
    "a = np.array([1, 2, 3, 4, 5, 5, 5, 5, 1, 1, 1, 1, 2, 2, 2, 2, 3, 3, 4, 5])\n",
    "x = np.unique(a)\n",
    "x"
   ]
  },
  {
   "cell_type": "markdown",
   "id": "a09187c0",
   "metadata": {},
   "source": [
    "#### Finding Union\n",
    "+ To find the unique values of two arrays, use `union1d()` method"
   ]
  },
  {
   "cell_type": "code",
   "execution_count": 5,
   "id": "9c580e1e",
   "metadata": {},
   "outputs": [
    {
     "data": {
      "text/plain": [
       "array([ 1,  2,  3,  4,  5,  6,  7,  8, 12])"
      ]
     },
     "execution_count": 5,
     "metadata": {},
     "output_type": "execute_result"
    }
   ],
   "source": [
    "a = np.array([1, 1, 1, 1, 2, 2, 3, 4, 5, 6, 7, 8])\n",
    "b = np.array([1, 1, 1, 1, 12, 12, 3, 4, 5, 6, 7, 8])\n",
    "c = np.union1d(a, b)\n",
    "c"
   ]
  },
  {
   "cell_type": "markdown",
   "id": "a51c2ed7",
   "metadata": {},
   "source": [
    "#### Finding Intersection"
   ]
  },
  {
   "cell_type": "code",
   "execution_count": 6,
   "id": "50b28d69",
   "metadata": {},
   "outputs": [
    {
     "data": {
      "text/plain": [
       "array([3, 5, 6])"
      ]
     },
     "execution_count": 6,
     "metadata": {},
     "output_type": "execute_result"
    }
   ],
   "source": [
    "a = np.array([3, 42, 5, 6])\n",
    "b = np.array([3, 4, 5, 6])\n",
    "c = np.intersect1d(a, b, assume_unique=True)\n",
    "c"
   ]
  },
  {
   "cell_type": "markdown",
   "id": "e26ecae9",
   "metadata": {},
   "source": [
    "#### Finding difference"
   ]
  },
  {
   "cell_type": "code",
   "execution_count": 7,
   "id": "034cd5c0",
   "metadata": {},
   "outputs": [
    {
     "data": {
      "text/plain": [
       "array([42])"
      ]
     },
     "execution_count": 7,
     "metadata": {},
     "output_type": "execute_result"
    }
   ],
   "source": [
    "# Find the difference of the `a` from `b`:\n",
    "\n",
    "a = np.array([3, 42, 5, 6])\n",
    "b = np.array([3, 4, 5, 6])\n",
    "c = np.setdiff1d(a, b, assume_unique=True)\n",
    "c"
   ]
  },
  {
   "cell_type": "markdown",
   "id": "7d09022d",
   "metadata": {},
   "source": [
    "#### Finding Symmetric Difference\n"
   ]
  },
  {
   "cell_type": "code",
   "execution_count": 8,
   "id": "61f8228d",
   "metadata": {},
   "outputs": [
    {
     "data": {
      "text/plain": [
       "array([ 4, 42])"
      ]
     },
     "execution_count": 8,
     "metadata": {},
     "output_type": "execute_result"
    }
   ],
   "source": [
    "# Find the symmetric difference of the `a` from `b`:\n",
    "\n",
    "a = np.array([3, 42, 5, 6])\n",
    "b = np.array([3, 4, 5, 6])\n",
    "c = np.setxor1d(a, b, assume_unique=True)\n",
    "c"
   ]
  },
  {
   "cell_type": "code",
   "execution_count": 9,
   "id": "d5b147c5",
   "metadata": {},
   "outputs": [
    {
     "name": "stdout",
     "output_type": "stream",
     "text": [
      "(7,)\n"
     ]
    },
    {
     "data": {
      "text/plain": [
       "array([1, 2, 3, 4, 5, 6, 7, 1, 2, 3, 4, 5, 6, 7, 1, 2, 3, 4, 5, 6, 7])"
      ]
     },
     "execution_count": 9,
     "metadata": {},
     "output_type": "execute_result"
    }
   ],
   "source": [
    "a = np.array([1,2,3,4,5,6,7])\n",
    "b = np.array([1,2,3,4,5,6,7])\n",
    "c = np.array([1,2,3,4,5,6,7])\n",
    "\n",
    "x = np.concatenate([a, b, c])\n",
    "print(a.shape)\n",
    "x"
   ]
  },
  {
   "cell_type": "code",
   "execution_count": null,
   "id": "2e4f0499",
   "metadata": {},
   "outputs": [],
   "source": []
  }
 ],
 "metadata": {
  "kernelspec": {
   "display_name": "Python 3",
   "language": "python",
   "name": "python3"
  },
  "language_info": {
   "codemirror_mode": {
    "name": "ipython",
    "version": 3
   },
   "file_extension": ".py",
   "mimetype": "text/x-python",
   "name": "python",
   "nbconvert_exporter": "python",
   "pygments_lexer": "ipython3",
   "version": "3.13.2"
  }
 },
 "nbformat": 4,
 "nbformat_minor": 5
}
