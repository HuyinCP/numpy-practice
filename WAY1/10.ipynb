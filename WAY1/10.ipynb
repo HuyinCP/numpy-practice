{
 "cells": [
  {
   "cell_type": "code",
   "execution_count": 34,
   "id": "324fa425",
   "metadata": {},
   "outputs": [],
   "source": [
    "import numpy as np"
   ]
  },
  {
   "cell_type": "markdown",
   "id": "62bcaf87",
   "metadata": {},
   "source": [
    "#### Searching Arrays\n",
    "+ Search an a array for a certain value, and return the indexs that get match.\n",
    "+ To search an array, use `where()` method"
   ]
  },
  {
   "cell_type": "code",
   "execution_count": 35,
   "id": "5c941dc3",
   "metadata": {},
   "outputs": [
    {
     "name": "stdout",
     "output_type": "stream",
     "text": [
      "(array([1, 3, 4, 5]),)\n",
      "(array([0, 2, 6]),)\n",
      "(array([3, 4]),)\n"
     ]
    }
   ],
   "source": [
    "arr = np.array([1, 2, 3, 4, 4, 6, 7])\n",
    "even = np.where(arr % 2 == 0)\n",
    "odd = np.where(arr & 1)\n",
    "x = np.where(arr == 4)\n",
    "print(even)\n",
    "print(odd)\n",
    "print(x)"
   ]
  },
  {
   "cell_type": "markdown",
   "id": "bb8aafcb",
   "metadata": {},
   "source": [
    "+ `searchsorted()` like binary search"
   ]
  },
  {
   "cell_type": "code",
   "execution_count": 36,
   "id": "1759fcfc",
   "metadata": {},
   "outputs": [
    {
     "name": "stdout",
     "output_type": "stream",
     "text": [
      "1\n"
     ]
    }
   ],
   "source": [
    "arr = np.array([6, 7, 7, 7, 7, 8, 9])\n",
    "x = np.searchsorted(arr, 7, side='left')\n",
    "print(x)"
   ]
  },
  {
   "cell_type": "code",
   "execution_count": 37,
   "id": "1b5ae035",
   "metadata": {},
   "outputs": [
    {
     "name": "stdout",
     "output_type": "stream",
     "text": [
      "1\n"
     ]
    }
   ],
   "source": [
    "arr = np.array([6, 7, 7, 7, 7, 8, 9])\n",
    "x = np.searchsorted(arr, 7, side='left')\n",
    "print(x)"
   ]
  },
  {
   "cell_type": "markdown",
   "id": "9637d63f",
   "metadata": {},
   "source": [
    "#### Multiple Values\n",
    "+ When we use `searchsorted()`, if the value does not exist in the array, the function will return the index where this value should be inserted to keep the array sorted.\n"
   ]
  },
  {
   "cell_type": "code",
   "execution_count": 38,
   "id": "edaee899",
   "metadata": {},
   "outputs": [
    {
     "name": "stdout",
     "output_type": "stream",
     "text": [
      "[1 2 6 6]\n"
     ]
    }
   ],
   "source": [
    "arr = np.array([1, 3, 5, 7, 7, 7, 11])\n",
    "x = np.searchsorted(arr, [2, 5, 9, 11])\n",
    "print(x)"
   ]
  }
 ],
 "metadata": {
  "kernelspec": {
   "display_name": "Python 3",
   "language": "python",
   "name": "python3"
  },
  "language_info": {
   "codemirror_mode": {
    "name": "ipython",
    "version": 3
   },
   "file_extension": ".py",
   "mimetype": "text/x-python",
   "name": "python",
   "nbconvert_exporter": "python",
   "pygments_lexer": "ipython3",
   "version": "3.13.2"
  }
 },
 "nbformat": 4,
 "nbformat_minor": 5
}
