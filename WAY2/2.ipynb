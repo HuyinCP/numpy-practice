{
 "cells": [
  {
   "cell_type": "markdown",
   "id": "6ae95c93",
   "metadata": {},
   "source": [
    "# Random Data Distribution\n"
   ]
  },
  {
   "cell_type": "markdown",
   "id": "ae10533c",
   "metadata": {},
   "source": [
    "#### What is Data Distribution?\n",
    "+ Data distribution is a list of possible values, and how often each value occurs.\n",
    "#### Random Distribution \n",
    "+ A random distribution is a set of random numbers that follow a certain probability density function.\n",
    "+ We can generate random numbers based on defined probability using the `choice()` method of the `random` module.\n",
    "+ The `choice()` method allows us to specify the probability for each value.\n",
    "+ The probability is a set number between 0 and 1, where 0 means that value will never occur and 1 means that value will always occur.\n",
    "\n"
   ]
  },
  {
   "cell_type": "code",
   "execution_count": 12,
   "id": "483faee4",
   "metadata": {},
   "outputs": [],
   "source": [
    "import numpy as np\n",
    "from numpy import random"
   ]
  },
  {
   "cell_type": "code",
   "execution_count": 16,
   "id": "191cf948",
   "metadata": {},
   "outputs": [
    {
     "name": "stdout",
     "output_type": "stream",
     "text": [
      "[2 2 5 2 2 4 2 2 3 3]\n"
     ]
    }
   ],
   "source": [
    "x = random.choice([1, 2, 3, 4, 5], p=[0.1, 0.5, 0.2, 0.1, 0.1], size=(10))\n",
    "print(x)"
   ]
  },
  {
   "cell_type": "code",
   "execution_count": 15,
   "id": "f8ac95b9",
   "metadata": {},
   "outputs": [
    {
     "name": "stdout",
     "output_type": "stream",
     "text": [
      "[[7 7 7 7 5]\n",
      " [7 3 7 5 7]\n",
      " [5 5 3 7 7]]\n"
     ]
    }
   ],
   "source": [
    "x = random.choice([3, 5, 7, 9], p=[0.1, 0.3, 0.6, 0.0], size=(3, 5))\n",
    "print(x)"
   ]
  }
 ],
 "metadata": {
  "kernelspec": {
   "display_name": "Python 3",
   "language": "python",
   "name": "python3"
  },
  "language_info": {
   "codemirror_mode": {
    "name": "ipython",
    "version": 3
   },
   "file_extension": ".py",
   "mimetype": "text/x-python",
   "name": "python",
   "nbconvert_exporter": "python",
   "pygments_lexer": "ipython3",
   "version": "3.13.2"
  }
 },
 "nbformat": 4,
 "nbformat_minor": 5
}
