{
 "cells": [
  {
   "cell_type": "markdown",
   "id": "d32c631e",
   "metadata": {},
   "source": [
    "# NumPy Coppy vs View\n",
    "+ The copy is a new array\n",
    "+ The view is just view of the original array"
   ]
  },
  {
   "cell_type": "code",
   "execution_count": 23,
   "id": "1f8053c6",
   "metadata": {},
   "outputs": [],
   "source": [
    "import numpy as np"
   ]
  },
  {
   "cell_type": "code",
   "execution_count": 24,
   "id": "44b1c4f5",
   "metadata": {},
   "outputs": [
    {
     "name": "stdout",
     "output_type": "stream",
     "text": [
      "[1 2 3]\n",
      "None\n",
      "[111   2   3]\n",
      "[111   2   3]\n"
     ]
    }
   ],
   "source": [
    "arr1 = np.array([1, 2, 3])\n",
    "a = arr1.copy()\n",
    "\n",
    "arr2 = np.array([1, 2, 3])\n",
    "b = arr2.view()\n",
    "\n",
    "a[0] = 111\n",
    "b[0] = 111\n",
    "print(arr1) \n",
    "print(a.base)\n",
    "print(arr2) \n",
    "print(b.base)\n"
   ]
  },
  {
   "cell_type": "code",
   "execution_count": null,
   "id": "40b65dc6",
   "metadata": {},
   "outputs": [],
   "source": []
  }
 ],
 "metadata": {
  "kernelspec": {
   "display_name": "Python 3",
   "language": "python",
   "name": "python3"
  },
  "language_info": {
   "codemirror_mode": {
    "name": "ipython",
    "version": 3
   },
   "file_extension": ".py",
   "mimetype": "text/x-python",
   "name": "python",
   "nbconvert_exporter": "python",
   "pygments_lexer": "ipython3",
   "version": "3.13.2"
  }
 },
 "nbformat": 4,
 "nbformat_minor": 5
}
