{
 "cells": [
  {
   "cell_type": "markdown",
   "id": "a15c0620",
   "metadata": {},
   "source": [
    "# Normal (Gaussian) Distribution\n",
    "\n",
    "Phân phối chuẩn (Normal Distribution), còn gọi là **phân phối Gauss**, là phân phối xác suất liên tục phổ biến nhất. Dữ liệu trong thực tế như chiều cao, điểm thi, nhiệt độ,... thường phân bố xung quanh một giá trị trung bình nào đó và tuân theo phân phối chuẩn.\n",
    "\n",
    "---\n",
    "\n",
    "## Đặc điểm\n",
    "\n",
    "- Là **phân phối liên tục (Continuous)**.\n",
    "- Đường cong hình **chuông (bell-shaped curve)**.\n",
    "- **Đối xứng** quanh giá trị trung bình (mean).\n",
    "- Phân phối được xác định bởi **2 tham số**:\n",
    "  - `μ` (mu): trung bình\n",
    "  - `σ` (sigma): độ lệch chuẩn\n",
    "\n",
    "---\n",
    "\n",
    "## Công thức mật độ xác suất\n",
    "\n",
    "Hàm mật độ xác suất của phân phối chuẩn được xác định bởi công thức:\n",
    "\n",
    "$$\n",
    "    f(x) = \\frac{1}{\\sigma \\sqrt{2\\pi}} \\exp\\left( -\\frac{(x - \\mu)^2}{2\\sigma^2} \\right )\n",
    "\n",
    "$$\n",
    "\n",
    "\n",
    "Trong đó:\n",
    "- `μ`: trung bình\n",
    "- `σ`: độ lệch chuẩn\n",
    "- `exp`: hàm mũ (e^x)\n",
    "\n",
    "---\n",
    "\n",
    "## Ví dụ minh họa\n",
    "\n",
    "> Giả sử chiều cao trung bình của nam giới là 175 cm với độ lệch chuẩn là 5 cm. Xác suất để một người nam có chiều cao từ 170 đến 180 cm là bao nhiêu?\n",
    "\n",
    "Cách giải: tích phân của hàm mật độ xác suất từ 170 đến 180, hoặc sử dụng scipy:\n",
    "\n",
    "```python\n",
    "from scipy.stats import norm\n",
    "\n",
    "# Xác suất chiều cao từ 170 đến 180\n",
    "p = norm.cdf(180, loc=175, scale=5) - norm.cdf(170, loc=175, scale=5)\n",
    "print(f\"Xác suất: {p:.4f}\")  # ≈ 0.6826\n",
    "```\n",
    "\n",
    "---\n",
    "\n",
    "## 📊 Các đặc trưng thống kê\n",
    "\n",
    "| Đặc trưng              | Giá trị                  |\n",
    "|------------------------|--------------------------|\n",
    "| Trung bình (Mean)      | `μ`                      |\n",
    "| Phương sai (Variance)  | `σ²`                     |\n",
    "| Độ lệch chuẩn (Std)    | `σ`                      |\n",
    "| Đối xứng               | Có, quanh `μ`            |\n",
    "| Skewness               | `0`                      |\n",
    "| Kurtosis               | `0` (chuẩn)              |\n",
    "\n",
    "---\n",
    "\n",
    "+ Use the random.normal() method to get a Normal Data Distribution.\n",
    "\n",
    "+ It has three parameters:\n",
    "\n",
    "  + loc - (Mean) where the peak of the bell exists.\n",
    "\n",
    "  + scale - (Standard Deviation) how flat the graph distribution should be.\n",
    "\n",
    "  + size - The shape of the returned array."
   ]
  },
  {
   "cell_type": "code",
   "execution_count": 3,
   "id": "33729b70",
   "metadata": {},
   "outputs": [],
   "source": [
    "import numpy as np\n",
    "from numpy import random\n",
    "import matplotlib.pyplot as plt\n",
    "import seaborn as sns"
   ]
  },
  {
   "cell_type": "code",
   "execution_count": 4,
   "id": "1ee6d62c",
   "metadata": {},
   "outputs": [
    {
     "name": "stdout",
     "output_type": "stream",
     "text": [
      "[1.08328482 0.96824838 1.07508349 1.23491872 1.17991615]\n"
     ]
    },
    {
     "data": {
      "text/plain": [
       "<seaborn.axisgrid.FacetGrid at 0x1dfb8872850>"
      ]
     },
     "execution_count": 4,
     "metadata": {},
     "output_type": "execute_result"
    },
    {
     "data": {
      "image/png": "[encoded data removed]",
      "text/plain": [
       "<Figure size 500x500 with 1 Axes>"
      ]
     },
     "metadata": {},
     "output_type": "display_data"
    }
   ],
   "source": [
    "x = random.normal(loc=1, scale=0.2, size=5)\n",
    "print(x)\n",
    "sns.displot(x, kind=\"kde\")\n"
   ]
  },
  {
   "cell_type": "code",
   "execution_count": null,
   "id": "d2464f3a",
   "metadata": {},
   "outputs": [],
   "source": []
  }
 ],
 "metadata": {
  "kernelspec": {
   "display_name": "Python 3",
   "language": "python",
   "name": "python3"
  },
  "language_info": {
   "codemirror_mode": {
    "name": "ipython",
    "version": 3
   },
   "file_extension": ".py",
   "mimetype": "text/x-python",
   "name": "python",
   "nbconvert_exporter": "python",
   "pygments_lexer": "ipython3",
   "version": "3.13.2"
  }
 },
 "nbformat": 4,
 "nbformat_minor": 5
}
