{
 "cells": [
  {
   "cell_type": "markdown",
   "id": "f24e8227",
   "metadata": {},
   "source": [
    "# NumPy Array Iterating\n"
   ]
  },
  {
   "cell_type": "code",
   "execution_count": 30,
   "id": "bb070756",
   "metadata": {},
   "outputs": [],
   "source": [
    "import numpy as np"
   ]
  },
  {
   "cell_type": "markdown",
   "id": "7b5ee37f",
   "metadata": {},
   "source": [
    "#### Iterating Arrays Using `nditer()`\n",
    "+  nditer stands for \"N-dimensinal iterator\"\n",
    "+  The purpose of nditer is help you iterator through each element of a Numpy array, no matter how many dimensions the array has, in a simple and effcient way"
   ]
  },
  {
   "cell_type": "code",
   "execution_count": 31,
   "id": "bdecdeb1",
   "metadata": {},
   "outputs": [
    {
     "name": "stdout",
     "output_type": "stream",
     "text": [
      "1\n",
      "2\n",
      "3\n",
      "4\n",
      "5\n",
      "6\n",
      "7\n",
      "8\n"
     ]
    }
   ],
   "source": [
    "arr = np.array([[[1, 2], [3, 4]], [[5, 6], [7, 8]]])\n",
    "for x in np.nditer(arr):\n",
    "    print(x)"
   ]
  },
  {
   "cell_type": "markdown",
   "id": "85734d47",
   "metadata": {},
   "source": [
    "#### Iterating array with different data types\n",
    "+ We can use `op_dtypes` argument and pass it the expected datatype to change the datatype of elements while iterating\n",
    "+ Numpy does not change the datatype of the element in-place so it needs some other space to perform this action, that extra space is called buffer, and in order to enable it in `nditer` we pass `flags=['buffered']`"
   ]
  },
  {
   "cell_type": "code",
   "execution_count": 32,
   "id": "358cabb2",
   "metadata": {},
   "outputs": [
    {
     "name": "stdout",
     "output_type": "stream",
     "text": [
      "|S21\n",
      "|S21\n",
      "|S21\n",
      "|S21\n",
      "|S21\n"
     ]
    }
   ],
   "source": [
    "arr = np.array([1, 2, 3, 4, 5])\n",
    "for x in np.nditer(arr, flags=['buffered'], op_dtypes=['S']):\n",
    "    print(x.dtype)"
   ]
  },
  {
   "cell_type": "markdown",
   "id": "73d299b1",
   "metadata": {},
   "source": [
    "#### Iterating With Different Step Size\n"
   ]
  },
  {
   "cell_type": "code",
   "execution_count": 33,
   "id": "81754b15",
   "metadata": {},
   "outputs": [
    {
     "name": "stdout",
     "output_type": "stream",
     "text": [
      "1\n",
      "3\n",
      "5\n",
      "7\n"
     ]
    }
   ],
   "source": [
    "arr = np.array([[1, 2, 3, 4], [5, 6, 7, 8]])\n",
    "for x in np.nditer(arr[:, ::2]):\n",
    "    print(x)"
   ]
  },
  {
   "cell_type": "markdown",
   "id": "e5a4aceb",
   "metadata": {},
   "source": [
    "#### Enumerated Iteration Using `ndenumerate()`\n"
   ]
  },
  {
   "cell_type": "code",
   "execution_count": 36,
   "id": "754fc6d1",
   "metadata": {},
   "outputs": [
    {
     "name": "stdout",
     "output_type": "stream",
     "text": [
      "(0, 0) 1\n",
      "(0, 1) 2\n",
      "(0, 2) 3\n",
      "(1, 0) 1\n",
      "(1, 1) 2\n",
      "(1, 2) 3\n"
     ]
    }
   ],
   "source": [
    "arr = np.array([[1, 2, 3], [1, 2, 3]])\n",
    "for idx, x in np.ndenumerate(arr):\n",
    "    print(idx, x)"
   ]
  }
 ],
 "metadata": {
  "kernelspec": {
   "display_name": "Python 3",
   "language": "python",
   "name": "python3"
  },
  "language_info": {
   "codemirror_mode": {
    "name": "ipython",
    "version": 3
   },
   "file_extension": ".py",
   "mimetype": "text/x-python",
   "name": "python",
   "nbconvert_exporter": "python",
   "pygments_lexer": "ipython3",
   "version": "3.13.2"
  }
 },
 "nbformat": 4,
 "nbformat_minor": 5
}
