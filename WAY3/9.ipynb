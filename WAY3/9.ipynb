{
 "cells": [
  {
   "cell_type": "markdown",
   "id": "4936fea4",
   "metadata": {},
   "source": [
    "# Numpy LCM Lowest Common Multiple"
   ]
  },
  {
   "cell_type": "code",
   "execution_count": 2,
   "id": "92947eb3",
   "metadata": {},
   "outputs": [],
   "source": [
    "import numpy as np"
   ]
  },
  {
   "cell_type": "code",
   "execution_count": 4,
   "id": "a5c2cfa8",
   "metadata": {},
   "outputs": [
    {
     "data": {
      "text/plain": [
       "np.int64(10)"
      ]
     },
     "execution_count": 4,
     "metadata": {},
     "output_type": "execute_result"
    }
   ],
   "source": [
    "a = 2\n",
    "b = 5\n",
    "c = np.lcm(a, b)\n",
    "c"
   ]
  },
  {
   "cell_type": "markdown",
   "id": "2bceb530",
   "metadata": {},
   "source": [
    "#### Finding LCM in Arrays\n",
    "+ The `reduce()` method will use ufunc, `lmc()` on each elements, and reduce the array by one dimension"
   ]
  },
  {
   "cell_type": "code",
   "execution_count": 14,
   "id": "5aec55c0",
   "metadata": {},
   "outputs": [
    {
     "data": {
      "text/plain": [
       "np.int64(280)"
      ]
     },
     "execution_count": 14,
     "metadata": {},
     "output_type": "execute_result"
    }
   ],
   "source": [
    "a = np.array([2, 5, 10, 56])\n",
    "x = np.lcm.reduce(a)\n",
    "x"
   ]
  },
  {
   "cell_type": "code",
   "execution_count": null,
   "id": "99d3b4d4",
   "metadata": {},
   "outputs": [
    {
     "data": {
      "text/plain": [
       "array([  2,  15,  20, 280])"
      ]
     },
     "execution_count": 11,
     "metadata": {},
     "output_type": "execute_result"
    }
   ],
   "source": [
    "# Cột 1: LCM(2, 1) = 2\n",
    "# Cột 2: LCM(5, 3) = 15\n",
    "# Cột 3: LCM(10, 4) = 20\n",
    "# Cột 4: LCM(56, 5) = 280\n",
    "a = np.array([[2, 5, 10, 56], [1, 3, 4, 5]])\n",
    "x = np.lcm.reduce(a)\n",
    "x"
   ]
  },
  {
   "cell_type": "code",
   "execution_count": 12,
   "id": "2191b2b2",
   "metadata": {},
   "outputs": [
    {
     "data": {
      "text/plain": [
       "array([280,  60])"
      ]
     },
     "execution_count": 12,
     "metadata": {},
     "output_type": "execute_result"
    }
   ],
   "source": [
    "# Cột 1: LCM(2, 1) = 2\n",
    "# Cột 2: LCM(5, 3) = 15\n",
    "# Cột 3: LCM(10, 4) = 20\n",
    "# Cột 4: LCM(56, 5) = 280\n",
    "a = np.array([[2, 5, 10, 56], [1, 3, 4, 5]])\n",
    "x = np.lcm.reduce(a, axis=1)\n",
    "x"
   ]
  },
  {
   "cell_type": "code",
   "execution_count": null,
   "id": "55d7111d",
   "metadata": {},
   "outputs": [],
   "source": []
  }
 ],
 "metadata": {
  "kernelspec": {
   "display_name": "Python 3",
   "language": "python",
   "name": "python3"
  },
  "language_info": {
   "codemirror_mode": {
    "name": "ipython",
    "version": 3
   },
   "file_extension": ".py",
   "mimetype": "text/x-python",
   "name": "python",
   "nbconvert_exporter": "python",
   "pygments_lexer": "ipython3",
   "version": "3.13.2"
  }
 },
 "nbformat": 4,
 "nbformat_minor": 5
}
