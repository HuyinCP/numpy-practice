{
 "cells": [
  {
   "cell_type": "markdown",
   "id": "82f86afc",
   "metadata": {},
   "source": [
    "# Rounding Decimals\n",
    "+ There are primarily five ways of rounding off decimals\n",
    "  + truncation\n",
    "  + fix\n",
    "  + rounding\n",
    "  + floor\n",
    "  + ceil"
   ]
  },
  {
   "cell_type": "markdown",
   "id": "396c2a3b",
   "metadata": {},
   "source": [
    "#### Truncation\n",
    "+ Remove the decimals, and return the float number closest to zero\n",
    "+ Use `trucn()` and `fix()` functions"
   ]
  },
  {
   "cell_type": "code",
   "execution_count": 2,
   "id": "b622276f",
   "metadata": {},
   "outputs": [],
   "source": [
    "import numpy as np"
   ]
  },
  {
   "cell_type": "code",
   "execution_count": 3,
   "id": "8bde0301",
   "metadata": {},
   "outputs": [
    {
     "data": {
      "text/plain": [
       "array([-3.,  3.])"
      ]
     },
     "execution_count": 3,
     "metadata": {},
     "output_type": "execute_result"
    }
   ],
   "source": [
    "a = np.trunc([-3.1666, 3.99999999999999])\n",
    "a"
   ]
  },
  {
   "cell_type": "code",
   "execution_count": 4,
   "id": "96f47842",
   "metadata": {},
   "outputs": [
    {
     "data": {
      "text/plain": [
       "array([-3.,  3.])"
      ]
     },
     "execution_count": 4,
     "metadata": {},
     "output_type": "execute_result"
    }
   ],
   "source": [
    "a = np.fix([-3.1666, 3.99999999999999])\n",
    "a"
   ]
  },
  {
   "cell_type": "markdown",
   "id": "cb3a48bc",
   "metadata": {},
   "source": [
    "#### Rounding\n",
    "+ The `arround()` function increments preceding digit or decimal by 1 if greater than 5 else do nothin\n",
    "```python\n",
    "np.around(a, decimals=0)\n",
    "```\n",
    "+ a: the number need around\n",
    "+ decimals: the number of decimal places to round to"
   ]
  },
  {
   "cell_type": "code",
   "execution_count": 5,
   "id": "5a20d595",
   "metadata": {},
   "outputs": [
    {
     "name": "stdout",
     "output_type": "stream",
     "text": [
      "3.11\n"
     ]
    }
   ],
   "source": [
    "a = np.around(3.106666, 2)\n",
    "print(a)\n"
   ]
  },
  {
   "cell_type": "code",
   "execution_count": 6,
   "id": "9ea863c4",
   "metadata": {},
   "outputs": [
    {
     "name": "stdout",
     "output_type": "stream",
     "text": [
      "6.0\n"
     ]
    }
   ],
   "source": [
    "a = np.around(5.93)\n",
    "print(a)"
   ]
  },
  {
   "cell_type": "markdown",
   "id": "c5e1f705",
   "metadata": {},
   "source": [
    "#### Floor\n",
    "+ The `floor()` function rounds off decimal to nearest lower int\n",
    "+ Floor of 3.155 is 3"
   ]
  },
  {
   "cell_type": "code",
   "execution_count": 7,
   "id": "b2c33741",
   "metadata": {},
   "outputs": [
    {
     "data": {
      "text/plain": [
       "array([-4.,  3.])"
      ]
     },
     "execution_count": 7,
     "metadata": {},
     "output_type": "execute_result"
    }
   ],
   "source": [
    "a = np.floor([-3.1666, 3.9997])\n",
    "\n",
    "a"
   ]
  },
  {
   "cell_type": "markdown",
   "id": "b1b9e90d",
   "metadata": {},
   "source": [
    "#### Ceil\n",
    "+ The `ceil()` function rounds off decimal to nearest upper int"
   ]
  },
  {
   "cell_type": "code",
   "execution_count": 8,
   "id": "a3b8bb67",
   "metadata": {},
   "outputs": [
    {
     "data": {
      "text/plain": [
       "array([-3.,  4., 10.])"
      ]
     },
     "execution_count": 8,
     "metadata": {},
     "output_type": "execute_result"
    }
   ],
   "source": [
    "a = np.ceil([-3.4444, 3.111, 9.9995])\n",
    "a"
   ]
  },
  {
   "cell_type": "markdown",
   "id": "40b93c2c",
   "metadata": {},
   "source": []
  }
 ],
 "metadata": {
  "kernelspec": {
   "display_name": "Python 3",
   "language": "python",
   "name": "python3"
  },
  "language_info": {
   "codemirror_mode": {
    "name": "ipython",
    "version": 3
   },
   "file_extension": ".py",
   "mimetype": "text/x-python",
   "name": "python",
   "nbconvert_exporter": "python",
   "pygments_lexer": "ipython3",
   "version": "3.13.2"
  }
 },
 "nbformat": 4,
 "nbformat_minor": 5
}
