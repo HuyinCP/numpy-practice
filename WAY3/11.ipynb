{
 "cells": [
  {
   "cell_type": "markdown",
   "id": "696643cf",
   "metadata": {},
   "source": [
    "# Numpy Trigonometric Functions"
   ]
  },
  {
   "cell_type": "markdown",
   "id": "9cb15988",
   "metadata": {},
   "source": [
    "### Vòng tròn lượng giác\n",
    "\n",
    "Vòng tròn lượng giác là một công cụ hữu ích để mô tả các hàm lượng giác như **sin**, **cos**, **tan**, và các hàm nghịch đảo của chúng. Nó là một vòng tròn có bán kính bằng 1, và được sử dụng để mô tả các giá trị của các hàm lượng giác tương ứng với các góc trong một hệ tọa độ vuông góc.\n",
    "\n",
    "---\n",
    "\n",
    "### Cấu trúc của vòng tròn lượng giác:\n",
    "\n",
    "1. **Tọa độ của điểm trên vòng tròn**:\n",
    "\n",
    "   * Vòng tròn lượng giác có tâm tại gốc tọa độ $(0,0)$ và bán kính bằng 1.\n",
    "   * Một điểm bất kỳ trên vòng tròn lượng giác có tọa độ $(x, y)$, trong đó:\n",
    "\n",
    "     * **x** là giá trị **cosine** của góc.\n",
    "     * **y** là giá trị **sine** của góc.\n",
    "   * Tọa độ của điểm trên vòng tròn có thể được biểu diễn như sau: $(\\cos(\\theta), \\sin(\\theta))$, trong đó $\\theta$ là góc mà tia từ gốc tọa độ tạo với trục hoành.\n",
    "\n",
    "2. **Góc và vị trí trên vòng tròn**:\n",
    "\n",
    "   * Góc $\\theta$ được đo từ trục hoành dương (trục x) theo chiều kim đồng hồ (đối với góc âm) hoặc ngược chiều kim đồng hồ (đối với góc dương).\n",
    "   * Các giá trị của **sin** và **cos** thay đổi khi góc $\\theta$ thay đổi.\n",
    "\n",
    "---\n",
    "\n",
    "### Các hàm lượng giác trong vòng tròn lượng giác:\n",
    "\n",
    "1. **Sin và Cos**:\n",
    "\n",
    "   * **Cos($\\theta$)** là hoành độ (x) của điểm trên vòng tròn.\n",
    "   * **Sin($\\theta$)** là tung độ (y) của điểm trên vòng tròn.\n",
    "\n",
    "   Khi góc $\\theta$ thay đổi, **sin($\\theta$)** và **cos($\\theta$)** thay đổi theo vị trí của điểm trên vòng tròn.\n",
    "\n",
    "   * **Ví dụ**: Nếu $\\theta = 0^\\circ$ (góc này tương ứng với điểm trên trục hoành dương), ta có:\n",
    "\n",
    "     $$\n",
    "     \\cos(0^\\circ) = 1, \\quad \\sin(0^\\circ) = 0\n",
    "     $$\n",
    "\n",
    "     * Nếu $\\theta = 90^\\circ$ (góc này tương ứng với điểm trên trục tung dương), ta có:\n",
    "\n",
    "     $$\n",
    "     \\cos(90^\\circ) = 0, \\quad \\sin(90^\\circ) = 1\n",
    "     $$\n",
    "\n",
    "2. **Tan**:\n",
    "\n",
    "   * **Tan($\\theta$)** là tỉ số giữa **sin($\\theta$)** và **cos($\\theta$)**:\n",
    "\n",
    "     $$\n",
    "     \\tan(\\theta) = \\frac{\\sin(\\theta)}{\\cos(\\theta)}\n",
    "     $$\n",
    "   * Tan không xác định khi $\\cos(\\theta) = 0$ (tức là tại góc $90^\\circ$ và $270^\\circ$).\n",
    "\n",
    "---\n",
    "\n",
    "### Các hàm nghịch đảo trong vòng tròn lượng giác:\n",
    "\n",
    "1. **Arcsin ($\\arcsin(x)$)**:\n",
    "\n",
    "   * $\\arcsin(x)$ trả về góc $\\theta$ sao cho **sin($\\theta$) = x**.\n",
    "   * Trong vòng tròn lượng giác, $x$ là tung độ của điểm, và $\\arcsin(x)$ cho phép bạn xác định góc từ giá trị này.\n",
    "   * **Giới hạn**: $\\arcsin(x)$ có giá trị trong khoảng $-\\frac{\\pi}{2}$ đến $\\frac{\\pi}{2}$ (hoặc -90° đến 90°).\n",
    "\n",
    "2. **Arccos ($\\arccos(x)$)**:\n",
    "\n",
    "   * $\\arccos(x)$ trả về góc $\\theta$ sao cho **cos($\\theta$) = x**.\n",
    "   * Trong vòng tròn lượng giác, $x$ là hoành độ của điểm, và $\\arccos(x)$ cho phép bạn xác định góc từ giá trị này.\n",
    "   * **Giới hạn**: $\\arccos(x)$ có giá trị trong khoảng $0$ đến $\\pi$ (hoặc 0° đến 180°).\n",
    "\n",
    "3. **Arctan ($\\arctan(x)$)**:\n",
    "\n",
    "   * $\\arctan(x)$ trả về góc $\\theta$ sao cho **tan($\\theta$) = x**.\n",
    "   * **Giới hạn**: $\\arctan(x)$ có giá trị trong khoảng $-\\frac{\\pi}{2}$ đến $\\frac{\\pi}{2}$ (hoặc -90° đến 90°).\n",
    "\n",
    "---\n",
    "\n",
    "### Tóm tắt mối quan hệ trong vòng tròn lượng giác:\n",
    "\n",
    "* **Sin** và **Cos** liên quan đến các tọa độ của điểm trên vòng tròn.\n",
    "* **Tan** là tỉ số giữa **sin** và **cos**, vì vậy nó liên quan đến tỉ số giữa tung độ và hoành độ của điểm trên vòng tròn.\n",
    "* Các hàm nghịch đảo như **arcsin**, **arccos**, **arctan** cho phép ta tìm góc khi biết giá trị của sin, cos hoặc tan.\n",
    "\n",
    "### Ví dụ minh họa trên vòng tròn lượng giác:\n",
    "\n",
    "* **Góc 0°** (hoặc 0 radians):\n",
    "\n",
    "  $$\n",
    "  \\cos(0^\\circ) = 1, \\quad \\sin(0^\\circ) = 0\n",
    "  $$\n",
    "* **Góc 90°** (hoặc $\\frac{\\pi}{2}$ radians):\n",
    "\n",
    "  $$\n",
    "  \\cos(90^\\circ) = 0, \\quad \\sin(90^\\circ) = 1\n",
    "  $$\n",
    "* **Góc 180°** (hoặc $\\pi$ radians):\n",
    "\n",
    "  $$\n",
    "  \\cos(180^\\circ) = -1, \\quad \\sin(180^\\circ) = 0\n",
    "  $$\n",
    "* **Góc 270°** (hoặc $\\frac{3\\pi}{2}$ radians):\n",
    "\n",
    "  $$\n",
    "  \\cos(270^\\circ) = 0, \\quad \\sin(270^\\circ) = -1\n",
    "  $$\n",
    "\n",
    "Vòng tròn lượng giác giúp bạn dễ dàng hình dung sự thay đổi của các hàm lượng giác khi góc thay đổi, và là nền tảng quan trọng trong các ứng dụng toán học, vật lý, kỹ thuật và nhiều lĩnh vực khác.\n"
   ]
  },
  {
   "cell_type": "markdown",
   "id": "effbab1e",
   "metadata": {},
   "source": [
    "#### Trigonometric Functions\n",
    "+ Numpy provides the ufuncs `sin()`, `cos()` `tan()` and take values in radians and produce the corresponding sin, cos, and tan values."
   ]
  },
  {
   "cell_type": "code",
   "execution_count": 49,
   "id": "4824c48f",
   "metadata": {},
   "outputs": [],
   "source": [
    "import numpy as np"
   ]
  },
  {
   "cell_type": "code",
   "execution_count": 50,
   "id": "cbb8742f",
   "metadata": {},
   "outputs": [
    {
     "data": {
      "text/plain": [
       "np.float64(1.0)"
      ]
     },
     "execution_count": 50,
     "metadata": {},
     "output_type": "execute_result"
    }
   ],
   "source": [
    "x = np.sin(np.pi / 2)\n",
    "x"
   ]
  },
  {
   "cell_type": "code",
   "execution_count": 51,
   "id": "a4e8cf92",
   "metadata": {},
   "outputs": [
    {
     "data": {
      "text/plain": [
       "array([1.        , 0.8660254 , 0.70710678, 0.58778525, 0.00314159])"
      ]
     },
     "execution_count": 51,
     "metadata": {},
     "output_type": "execute_result"
    }
   ],
   "source": [
    "x = np.array([np.pi/2, np.pi/3, np.pi/4, np.pi/5, np.pi / 1000])\n",
    "x = np.sin(x)\n",
    "x"
   ]
  },
  {
   "cell_type": "markdown",
   "id": "61ec82f4",
   "metadata": {},
   "source": [
    "#### Convert Degrees into Radians"
   ]
  },
  {
   "cell_type": "code",
   "execution_count": 52,
   "id": "01038085",
   "metadata": {},
   "outputs": [
    {
     "data": {
      "text/plain": [
       "array([1.57079633, 3.14159265, 4.71238898, 6.28318531])"
      ]
     },
     "execution_count": 52,
     "metadata": {},
     "output_type": "execute_result"
    }
   ],
   "source": [
    "a = np.array([90, 180, 270, 360])\n",
    "x = np.deg2rad(a)\n",
    "x"
   ]
  },
  {
   "cell_type": "markdown",
   "id": "5608b482",
   "metadata": {},
   "source": [
    "#### Conver Radians to Degrees"
   ]
  },
  {
   "cell_type": "code",
   "execution_count": 53,
   "id": "07a54098",
   "metadata": {},
   "outputs": [
    {
     "data": {
      "text/plain": [
       "array([ 90., 180., 270., 360.])"
      ]
     },
     "execution_count": 53,
     "metadata": {},
     "output_type": "execute_result"
    }
   ],
   "source": [
    "a = np.array([np.pi / 2, np.pi, 1.5*np.pi,  2*np.pi])\n",
    "x = np.rad2deg(a)\n",
    "x"
   ]
  },
  {
   "cell_type": "markdown",
   "id": "2a6b98e9",
   "metadata": {},
   "source": [
    "#### Finding Angles"
   ]
  },
  {
   "cell_type": "code",
   "execution_count": 60,
   "id": "c7f0ede8",
   "metadata": {},
   "outputs": [
    {
     "data": {
      "text/plain": [
       "np.float64(3.141592653589793)"
      ]
     },
     "execution_count": 60,
     "metadata": {},
     "output_type": "execute_result"
    }
   ],
   "source": [
    "# cos(angle) = values\n",
    "# arccos(values) = angle\n",
    "# across(cos(angle)) = angle\n",
    "a = np.cos(np.pi)\n",
    "\n",
    "b = np.arccos(np.cos(np.pi))\n",
    "\n",
    "b"
   ]
  },
  {
   "cell_type": "markdown",
   "id": "4c9c5a99",
   "metadata": {},
   "source": [
    "#### Finding Hypotenues"
   ]
  },
  {
   "cell_type": "code",
   "execution_count": 61,
   "id": "354d5911",
   "metadata": {},
   "outputs": [
    {
     "data": {
      "text/plain": [
       "np.float64(2.8284271247461903)"
      ]
     },
     "execution_count": 61,
     "metadata": {},
     "output_type": "execute_result"
    }
   ],
   "source": [
    "a = 2\n",
    "b = 2\n",
    "c = np.hypot(a, b)\n",
    "c"
   ]
  }
 ],
 "metadata": {
  "kernelspec": {
   "display_name": "Python 3",
   "language": "python",
   "name": "python3"
  },
  "language_info": {
   "codemirror_mode": {
    "name": "ipython",
    "version": 3
   },
   "file_extension": ".py",
   "mimetype": "text/x-python",
   "name": "python",
   "nbconvert_exporter": "python",
   "pygments_lexer": "ipython3",
   "version": "3.13.2"
  }
 },
 "nbformat": 4,
 "nbformat_minor": 5
}
