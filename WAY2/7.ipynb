{
 "cells": [
  {
   "cell_type": "markdown",
   "id": "9ad2cd77",
   "metadata": {},
   "source": [
    "# Poisson Distribution\n",
    "\n",
    "Phân phối Poisson là một **phân phối xác suất rời rạc** mô tả xác suất xảy ra **số lần sự kiện** trong một **khoảng thời gian (hoặc không gian) xác định**, **với tần suất trung bình đã biết** và các sự kiện xảy ra **ngẫu nhiên, độc lập**.\n",
    "\n",
    "---\n",
    "\n",
    "## Đặc điểm\n",
    "\n",
    "- **Loại**: Phân phối rời rạc (Discrete)\n",
    "- **Ứng dụng**: Mô hình số lần xảy ra của sự kiện hiếm\n",
    "- **Ký hiệu**: `X ~ Poisson(λ)`\n",
    "\n",
    "---\n",
    "\n",
    "## Công thức xác suất\n",
    "\n",
    "Cho biến ngẫu nhiên `X` là số lần xảy ra sự kiện trong khoảng thời gian xác định:\n",
    "\n",
    "$$\n",
    "    P(X = K) = \\frac{λ^{k} \\cdot e^{-λ}}{k!}\n",
    "$$\n",
    "\n",
    "Trong đó:\n",
    "- `λ`: trung bình số lần xảy ra sự kiện trong khoảng thời gian/không gian\n",
    "- `k`: số lần xảy ra cụ thể\n",
    "- `e`: hằng số Euler, xấp xỉ `2.71828`\n",
    "\n",
    "---\n",
    "\n",
    "## Ex:\n",
    "\n",
    "> Một người trung bình ăn 2 bữa một ngày. Xác suất anh ta ăn 3 bữa trong một ngày là bao nhiêu?\n",
    "\n",
    "- λ = 2, k = 3\n",
    "  \n",
    "$$\n",
    "    P(X = 3) = \\frac{2^{3} \\cdot e^{-2}}{3!} ≈ 0.180\n",
    "$$\n",
    "---\n",
    "\n",
    "## Các đặc trưng thống kê\n",
    "\n",
    "| Đặc trưng        | Giá trị           |\n",
    "|------------------|------------------|\n",
    "| Kỳ vọng (Mean)   | $E(X) = λ$       |\n",
    "| Phương sai       | $Var(X) = λ$     |\n",
    "| Độ lệch chuẩn     | $σ = \\sqrtλ$         |\n",
    "| Skewness         | $ \\frac{1}{\\sqrtλ}$         |\n",
    "| Kurtosis         | $ \\frac{1}{λ}$          |\n",
    "---\n",
    "+ It has two parameters:\n",
    "\n",
    "  + lam - rate or known number of occurrences e.g. 2 for above problem.\n",
    "\n",
    "  + size - The shape of the returned array."
   ]
  },
  {
   "cell_type": "code",
   "execution_count": null,
   "id": "dc94a269",
   "metadata": {},
   "outputs": [],
   "source": []
  },
  {
   "cell_type": "markdown",
   "id": "8b973233",
   "metadata": {},
   "source": []
  }
 ],
 "metadata": {
  "kernelspec": {
   "display_name": "Python 3",
   "language": "python",
   "name": "python3"
  },
  "language_info": {
   "name": "python",
   "version": "3.13.2"
  }
 },
 "nbformat": 4,
 "nbformat_minor": 5
}
