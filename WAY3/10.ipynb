{
 "cells": [
  {
   "cell_type": "markdown",
   "id": "15db4573",
   "metadata": {},
   "source": [
    "# Numpy GCD Greatest Common Divisor"
   ]
  },
  {
   "cell_type": "code",
   "execution_count": 10,
   "id": "5459bd11",
   "metadata": {},
   "outputs": [],
   "source": [
    "import numpy as np"
   ]
  },
  {
   "cell_type": "code",
   "execution_count": 11,
   "id": "510f4617",
   "metadata": {},
   "outputs": [
    {
     "data": {
      "text/plain": [
       "np.int64(6)"
      ]
     },
     "execution_count": 11,
     "metadata": {},
     "output_type": "execute_result"
    }
   ],
   "source": [
    "a = 54\n",
    "b = 12\n",
    "c = np.gcd(a, b)\n",
    "c"
   ]
  },
  {
   "cell_type": "markdown",
   "id": "166ec042",
   "metadata": {},
   "source": [
    "#### Finding GCD in Arrays\n",
    "+ The `reduce()` method will use the ufunc, in this case the `gcd()` function, on each element, and reduce the array by one dimension.\n",
    "\n"
   ]
  },
  {
   "cell_type": "code",
   "execution_count": 12,
   "id": "18ecefd5",
   "metadata": {},
   "outputs": [
    {
     "data": {
      "text/plain": [
       "np.int64(2)"
      ]
     },
     "execution_count": 12,
     "metadata": {},
     "output_type": "execute_result"
    }
   ],
   "source": [
    "a = np.arange(2, 100, 2)\n",
    "c = np.gcd.reduce(a)\n",
    "c"
   ]
  },
  {
   "cell_type": "code",
   "execution_count": 13,
   "id": "01e3ee83",
   "metadata": {},
   "outputs": [
    {
     "data": {
      "text/plain": [
       "array([2, 1])"
      ]
     },
     "execution_count": 13,
     "metadata": {},
     "output_type": "execute_result"
    }
   ],
   "source": [
    "# Dòng 1: GCD(2, 4, 6) = 2\n",
    "# Dòng 2: GCD(7, 8, 9) = 1\n",
    "a = np.array([[2, 4, 6],[7, 8, 9]])\n",
    "c = np.gcd.reduce(a, axis=1)\n",
    "c"
   ]
  },
  {
   "cell_type": "code",
   "execution_count": 14,
   "id": "55723d65",
   "metadata": {},
   "outputs": [
    {
     "data": {
      "text/plain": [
       "array([1, 4, 3])"
      ]
     },
     "execution_count": 14,
     "metadata": {},
     "output_type": "execute_result"
    }
   ],
   "source": [
    "# Cột 1: GCD(2, 7) = 1\n",
    "# Cột 2: GCD(4, 8) = 2\n",
    "# Cột 3: GCD(6, 9) = 4\n",
    "a = np.array([[2, 4, 6],[7, 8, 9]])\n",
    "c = np.gcd.reduce(a, axis=0)\n",
    "c"
   ]
  }
 ],
 "metadata": {
  "kernelspec": {
   "display_name": "Python 3",
   "language": "python",
   "name": "python3"
  },
  "language_info": {
   "codemirror_mode": {
    "name": "ipython",
    "version": 3
   },
   "file_extension": ".py",
   "mimetype": "text/x-python",
   "name": "python",
   "nbconvert_exporter": "python",
   "pygments_lexer": "ipython3",
   "version": "3.13.2"
  }
 },
 "nbformat": 4,
 "nbformat_minor": 5
}
