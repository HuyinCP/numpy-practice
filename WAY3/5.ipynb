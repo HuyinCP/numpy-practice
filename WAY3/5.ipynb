{
 "cells": [
  {
   "cell_type": "markdown",
   "id": "9d570ff9",
   "metadata": {},
   "source": [
    "# NumPy Logs\n"
   ]
  },
  {
   "cell_type": "code",
   "execution_count": 32,
   "id": "ea243df0",
   "metadata": {},
   "outputs": [],
   "source": [
    "import numpy as np\n",
    "import math"
   ]
  },
  {
   "cell_type": "markdown",
   "id": "8f5f34d9",
   "metadata": {},
   "source": [
    "#### Log base 2 `log2()`"
   ]
  },
  {
   "cell_type": "code",
   "execution_count": 33,
   "id": "ed3ac209",
   "metadata": {},
   "outputs": [
    {
     "data": {
      "text/plain": [
       "array([0.        , 1.        , 1.5849625 , 2.        , 2.32192809,\n",
       "       2.5849625 , 2.80735492, 3.        , 3.169925  ])"
      ]
     },
     "execution_count": 33,
     "metadata": {},
     "output_type": "execute_result"
    }
   ],
   "source": [
    "a = np.arange(1, 10)\n",
    "np.log2(a)\n"
   ]
  },
  {
   "cell_type": "markdown",
   "id": "831af738",
   "metadata": {},
   "source": [
    "#### Log base 10 `log10()`"
   ]
  },
  {
   "cell_type": "code",
   "execution_count": 34,
   "id": "48f22dd3",
   "metadata": {},
   "outputs": [
    {
     "data": {
      "text/plain": [
       "array([0.        , 0.30103   , 0.47712125, 0.60205999, 0.69897   ,\n",
       "       0.77815125, 0.84509804, 0.90308999, 0.95424251])"
      ]
     },
     "execution_count": 34,
     "metadata": {},
     "output_type": "execute_result"
    }
   ],
   "source": [
    "a = np.arange(1, 10)\n",
    "np.log10(a)"
   ]
  },
  {
   "cell_type": "markdown",
   "id": "e5b6cde1",
   "metadata": {},
   "source": [
    "#### Log base $e$ `log()`"
   ]
  },
  {
   "cell_type": "code",
   "execution_count": 35,
   "id": "b192b6c8",
   "metadata": {},
   "outputs": [
    {
     "data": {
      "text/plain": [
       "array([0.        , 0.69314718, 1.09861229, 1.38629436, 1.60943791,\n",
       "       1.79175947, 1.94591015, 2.07944154, 2.19722458])"
      ]
     },
     "execution_count": 35,
     "metadata": {},
     "output_type": "execute_result"
    }
   ],
   "source": [
    "a = np.arange(1, 10)\n",
    "np.log(a)"
   ]
  },
  {
   "cell_type": "code",
   "execution_count": null,
   "id": "3d28fe43",
   "metadata": {},
   "outputs": [
    {
     "data": {
      "text/plain": [
       "59.794705707972525"
      ]
     },
     "execution_count": 37,
     "metadata": {},
     "output_type": "execute_result"
    }
   ],
   "source": [
    "a = math.log(1e18, 2)\n",
    "a"
   ]
  },
  {
   "cell_type": "code",
   "execution_count": 40,
   "id": "0ce3f086",
   "metadata": {},
   "outputs": [
    {
     "data": {
      "text/plain": [
       "59.794705707972525"
      ]
     },
     "execution_count": 40,
     "metadata": {},
     "output_type": "execute_result"
    }
   ],
   "source": [
    "nplog = np.frompyfunc(log, 2, 1)\n",
    "a = nplog(1e18, 2)\n",
    "a"
   ]
  },
  {
   "cell_type": "code",
   "execution_count": null,
   "id": "056c150d",
   "metadata": {},
   "outputs": [],
   "source": []
  }
 ],
 "metadata": {
  "kernelspec": {
   "display_name": "Python 3",
   "language": "python",
   "name": "python3"
  },
  "language_info": {
   "codemirror_mode": {
    "name": "ipython",
    "version": 3
   },
   "file_extension": ".py",
   "mimetype": "text/x-python",
   "name": "python",
   "nbconvert_exporter": "python",
   "pygments_lexer": "ipython3",
   "version": "3.13.2"
  }
 },
 "nbformat": 4,
 "nbformat_minor": 5
}
