{
 "cells": [
  {
   "cell_type": "markdown",
   "id": "b6ec7220",
   "metadata": {},
   "source": [
    "# Create Your Own ufunc\n",
    "+ To create your own function, you have to define a function, like you do with normal functions in python, then you add it to your numpy ufunc library with the `frompyfunc()` method\n",
    "+ The `frompyfunc()` method takes the followting arguments\n",
    "  + `function` : the name of the function\n",
    "  + `inputs` : the number of input arguments (arrays)\n",
    "  + `output` : the number of output arrays"
   ]
  },
  {
   "cell_type": "code",
   "execution_count": 1,
   "id": "ac56d0b1",
   "metadata": {},
   "outputs": [],
   "source": [
    "import numpy as np"
   ]
  },
  {
   "cell_type": "code",
   "execution_count": null,
   "id": "15b92a5c",
   "metadata": {},
   "outputs": [
    {
     "name": "stdout",
     "output_type": "stream",
     "text": [
      "[5 7 9]\n",
      "<class 'numpy.ufunc'>\n"
     ]
    }
   ],
   "source": [
    "def myAdd(x, y):\n",
    "    return x + y\n",
    "\n",
    "myadd = np.frompyfunc(myAdd, 2, 1)\n",
    "print(myadd([1, 2, 3], [4, 5, 6]))"
   ]
  },
  {
   "cell_type": "code",
   "execution_count": 11,
   "id": "6dea15cb",
   "metadata": {},
   "outputs": [
    {
     "name": "stdout",
     "output_type": "stream",
     "text": [
      "<class 'numpy.ufunc'>\n"
     ]
    }
   ],
   "source": [
    "print(type(np.add))"
   ]
  },
  {
   "cell_type": "code",
   "execution_count": null,
   "id": "e1d0443f",
   "metadata": {},
   "outputs": [],
   "source": [
    "s"
   ]
  }
 ],
 "metadata": {
  "kernelspec": {
   "display_name": "Python 3",
   "language": "python",
   "name": "python3"
  },
  "language_info": {
   "codemirror_mode": {
    "name": "ipython",
    "version": 3
   },
   "file_extension": ".py",
   "mimetype": "text/x-python",
   "name": "python",
   "nbconvert_exporter": "python",
   "pygments_lexer": "ipython3",
   "version": "3.13.2"
  }
 },
 "nbformat": 4,
 "nbformat_minor": 5
}
